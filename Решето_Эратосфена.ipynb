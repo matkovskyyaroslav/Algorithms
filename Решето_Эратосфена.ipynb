{
  "nbformat": 4,
  "nbformat_minor": 0,
  "metadata": {
    "colab": {
      "provenance": []
    },
    "kernelspec": {
      "name": "python3",
      "display_name": "Python 3"
    },
    "language_info": {
      "name": "python"
    }
  },
  "cells": [
    {
      "cell_type": "code",
      "execution_count": null,
      "metadata": {
        "id": "8BuIcG75kN5K"
      },
      "outputs": [],
      "source": [
        "def simple_numbers(n):\n",
        "    arr = [True] * (n + 1)\n",
        "    res = []\n",
        "    arr[0] = arr[1] = False\n",
        "\n",
        "    for i in range(2, int(n ** 0.5)):\n",
        "        if arr[i]:\n",
        "            for j in range(i + i, n + 1, i):\n",
        "                arr[j] = False\n",
        "\n",
        "    for i in range(n + 1):\n",
        "        if arr[i]:\n",
        "            res.append(i)\n",
        "    return res"
      ]
    }
  ]
}