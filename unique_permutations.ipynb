{
  "nbformat": 4,
  "nbformat_minor": 0,
  "metadata": {
    "colab": {
      "provenance": []
    },
    "kernelspec": {
      "name": "python3",
      "display_name": "Python 3"
    },
    "language_info": {
      "name": "python"
    }
  },
  "cells": [
    {
      "cell_type": "code",
      "execution_count": 3,
      "metadata": {
        "id": "2mDoFv-tJiV9"
      },
      "outputs": [],
      "source": [
        "def permuteUnique(nums):\n",
        "        n = len(nums)\n",
        "        res = []\n",
        "        def permutations(nums, n, prefix=None):\n",
        "            prefix = prefix or []\n",
        "            if n == 0:\n",
        "                #print(prefix)\n",
        "                return prefix\n",
        "            for i in range(len(nums)):\n",
        "                if i > 0 and nums[i] in nums[:i]:\n",
        "                    continue\n",
        "                if prefix.count(nums[i]) != nums.count(nums[i]):\n",
        "                    prefix.append(nums[i])\n",
        "                    permutations(nums, n - 1, prefix)\n",
        "                    if len(prefix) == len(nums):\n",
        "                        res.append(prefix.copy())\n",
        "                    prefix.pop()\n",
        "        permutations(nums, n)\n",
        "        return res"
      ]
    }
  ]
}