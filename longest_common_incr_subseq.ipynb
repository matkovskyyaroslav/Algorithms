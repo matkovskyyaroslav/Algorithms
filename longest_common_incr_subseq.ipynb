{
  "nbformat": 4,
  "nbformat_minor": 0,
  "metadata": {
    "colab": {
      "provenance": []
    },
    "kernelspec": {
      "name": "python3",
      "display_name": "Python 3"
    },
    "language_info": {
      "name": "python"
    }
  },
  "cells": [
    {
      "cell_type": "code",
      "execution_count": 5,
      "metadata": {
        "id": "yxb1MaOan5Bo"
      },
      "outputs": [],
      "source": [
        "def longest_common_incr_subseq(A):\n",
        "    B = sorted(A)\n",
        "\n",
        "    res = [[0] * (len(B) + 1) for _ in range(len(A) + 1)]\n",
        "\n",
        "    for i in range(1, len(A) + 1):\n",
        "        for j in range(1, len(B) + 1):\n",
        "            if A[i - 1] == B[j - 1]:\n",
        "                res[i][j] = res[i - 1][j - 1] + 1\n",
        "            else:\n",
        "                res[i][j] = max(res[i - 1][j], res[i][j - 1])\n",
        "\n",
        "    return res[-1][-1]"
      ]
    },
    {
      "cell_type": "code",
      "source": [
        "A = [1, 5, 3, 2, 7, 8]\n",
        "longest_common_incr_subseq(A)"
      ],
      "metadata": {
        "colab": {
          "base_uri": "https://localhost:8080/"
        },
        "id": "XKNBdjEuoXch",
        "outputId": "5b078cf1-b740-4a6e-cdd8-170bb00b29e2"
      },
      "execution_count": 7,
      "outputs": [
        {
          "output_type": "execute_result",
          "data": {
            "text/plain": [
              "4"
            ]
          },
          "metadata": {},
          "execution_count": 7
        }
      ]
    }
  ]
}