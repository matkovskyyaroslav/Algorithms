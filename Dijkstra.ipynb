{
  "nbformat": 4,
  "nbformat_minor": 0,
  "metadata": {
    "colab": {
      "provenance": []
    },
    "kernelspec": {
      "name": "python3",
      "display_name": "Python 3"
    },
    "language_info": {
      "name": "python"
    }
  },
  "cells": [
    {
      "cell_type": "code",
      "source": [
        "import heapq\n",
        "\n",
        "\n",
        "class weighted_Graph:\n",
        "    def __init__(self, matrix):\n",
        "        self.matrix = matrix\n",
        "        self.dist = [float('inf')] * (len(matrix) + 1)\n",
        "\n",
        "    def dijkstra(self, start):\n",
        "        self.dist[start] = 0\n",
        "        heap = []\n",
        "        heapq.heappush(heap, (0, start))\n",
        "        while heap:\n",
        "            dist, vert = heapq.heappop(heap)\n",
        "            if dist > self.dist[vert]:\n",
        "                continue\n",
        "            for i in range(len(matrix[vert])):\n",
        "                if matrix[vert][i] == -1:\n",
        "                    continue\n",
        "                curr_dist = self.dist[vert] + self.matrix[vert][i]\n",
        "                if self.dist[i] > curr_dist:\n",
        "                    self.dist[i] = curr_dist\n",
        "                    heapq.heappush(heap, (curr_dist, i))\n",
        "\n",
        "\n",
        "n, start, end = map(int, input().split())\n",
        "matrix = [[-1] * (n + 1) for _ in range(n + 1)]\n",
        "for i in range(n):\n",
        "    lst = list(map(int, input().split()))\n",
        "    matrix[i + 1][1:] = lst\n",
        "\n",
        "graph = weighted_Graph(matrix)\n",
        "graph.dijkstra(start)\n",
        "\n",
        "res = graph.dist[end]\n",
        "if res == float('inf'):\n",
        "    print(-1)\n",
        "else:\n",
        "    print(res)"
      ],
      "metadata": {
        "id": "ZcX7jRyjIHue"
      },
      "execution_count": null,
      "outputs": []
    }
  ]
}