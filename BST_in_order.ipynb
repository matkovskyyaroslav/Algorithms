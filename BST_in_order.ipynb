{
  "nbformat": 4,
  "nbformat_minor": 0,
  "metadata": {
    "colab": {
      "provenance": []
    },
    "kernelspec": {
      "name": "python3",
      "display_name": "Python 3"
    },
    "language_info": {
      "name": "python"
    }
  },
  "cells": [
    {
      "cell_type": "code",
      "source": [
        "class Node:\n",
        "    def __init__(self, value=0, left=None, right=None):\n",
        "        self.value = value\n",
        "        self.left = left\n",
        "        self.right = right\n",
        "\n",
        "\n",
        "def in_order(node):\n",
        "    if node is not None:\n",
        "        in_order(node.left)\n",
        "        print(node.value, end=' ')\n",
        "        in_order(node.right)\n",
        "\n",
        "\n",
        "def find(root, val):\n",
        "    if root.value == val:\n",
        "        return True\n",
        "    elif root.value < val:\n",
        "        if root.right is None:\n",
        "            return False\n",
        "        return find(root.right, val)\n",
        "    else:\n",
        "        if root.left is None:\n",
        "            return False\n",
        "        return find(root.left, val)\n",
        "\n",
        "\n",
        "def insert_value(root, val):\n",
        "    if root is None:\n",
        "        return Node(val)\n",
        "\n",
        "    if root.value < val:\n",
        "        root.right = insert_value(root.right, val)\n",
        "    else:\n",
        "        root.left = insert_value(root.left, val)\n",
        "    return root\n",
        "\n",
        "\n",
        "lst = list(map(int, input().split()))\n",
        "\n",
        "root = Node(lst[0])\n",
        "for i in range(1, len(lst)):\n",
        "    if not find(root, lst[i]):\n",
        "        root = insert_value(root, lst[i])\n",
        "\n",
        "in_order(root)"
      ],
      "metadata": {
        "id": "ZcX7jRyjIHue"
      },
      "execution_count": null,
      "outputs": []
    }
  ]
}