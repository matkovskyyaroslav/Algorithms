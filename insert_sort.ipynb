{
  "nbformat": 4,
  "nbformat_minor": 0,
  "metadata": {
    "colab": {
      "provenance": []
    },
    "kernelspec": {
      "name": "python3",
      "display_name": "Python 3"
    },
    "language_info": {
      "name": "python"
    }
  },
  "cells": [
    {
      "cell_type": "code",
      "execution_count": null,
      "metadata": {
        "id": "8BuIcG75kN5K"
      },
      "outputs": [],
      "source": [
        "def insert_sort(lst):\n",
        "    for i in range(1, len(lst)):\n",
        "        for j in range(i, 0, -1):\n",
        "            if lst[j] < lst[j - 1]:\n",
        "                lst[j - 1], lst[j] = lst[j], lst[j - 1]\n",
        "    return lst"
      ]
    }
  ]
}