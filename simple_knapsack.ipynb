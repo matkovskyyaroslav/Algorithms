{
  "nbformat": 4,
  "nbformat_minor": 0,
  "metadata": {
    "colab": {
      "provenance": []
    },
    "kernelspec": {
      "name": "python3",
      "display_name": "Python 3"
    },
    "language_info": {
      "name": "python"
    }
  },
  "cells": [
    {
      "cell_type": "code",
      "execution_count": null,
      "metadata": {
        "id": "9AGu7PNh46uT"
      },
      "outputs": [],
      "source": [
        "from itertools import product\n",
        "\n",
        "\n",
        "def all_poss_cases(x, gold):\n",
        "    all_comb = list(product(range(2), repeat=len(gold)))[::-1]\n",
        "    res = 0\n",
        "\n",
        "    for i in range(len(all_comb)):\n",
        "        poss = 0\n",
        "        for j in range(len(all_comb[i])):\n",
        "            poss += all_comb[i][j] * gold[j]\n",
        "        if res < poss < x:\n",
        "            res = poss\n",
        "        elif poss == x:\n",
        "            return poss\n",
        "    return res\n",
        "\n",
        "\n",
        "def knapsack_alg(x, w, gold):\n",
        "    dp = [[0] * (x + 1) for _ in range(w + 1)]\n",
        "\n",
        "    for i in range(1, len(dp)):\n",
        "        elem = gold[i - 1]\n",
        "        for j in range(1, len(dp[0])):\n",
        "            dp[i][j] = dp[i - 1][j]\n",
        "            if j >= elem:\n",
        "                dp[i][j] = max(dp[i][j], dp[i - 1][j - gold[i - 1]] + gold[i - 1])\n",
        "    return dp[-1][-1]\n",
        "\n",
        "\n",
        "with open('knapsack.in') as f:\n",
        "    lines = f.readlines()\n",
        "\n",
        "x, w = map(int, lines[0].split())\n",
        "gold = list(map(int, lines[1].split()))\n",
        "res = 0\n",
        "\n",
        "if x * w < 2 ** w:\n",
        "    res = knapsack_alg(x, w, gold)\n",
        "else:\n",
        "    res = all_poss_cases(x, gold)\n",
        "#  print(all_poss_cases(x, gold))\n",
        "#  print(knapsack_alg(x, w, gold))\n",
        "with open(\"knapsack.out\", \"w\") as file:\n",
        "    file.write(str(res))"
      ]
    }
  ]
}