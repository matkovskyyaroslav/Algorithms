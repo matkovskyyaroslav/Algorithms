{
  "nbformat": 4,
  "nbformat_minor": 0,
  "metadata": {
    "colab": {
      "provenance": []
    },
    "kernelspec": {
      "name": "python3",
      "display_name": "Python 3"
    },
    "language_info": {
      "name": "python"
    }
  },
  "cells": [
    {
      "cell_type": "code",
      "source": [
        "class Graph:\n",
        "    def __init__(self, lst):\n",
        "        self.adj_list = lst\n",
        "        self.dist = [float('inf')] * len(self.adj_list)\n",
        "\n",
        "    def relax(self, u, v, w):\n",
        "        if self.dist[v] > self.dist[u] + w:\n",
        "            self.dist[v] = self.dist[u] + w\n",
        "            return True\n",
        "        return False\n",
        "\n",
        "    def ford_bellmann(self, start):\n",
        "        self.dist[start] = 0\n",
        "        for _ in range(len(self.adj_list) - 2):\n",
        "            for first in range(len(self.adj_list)):\n",
        "                for second, w in self.adj_list[first]:\n",
        "                    self.relax(first, second, w)\n",
        "\n",
        "\n",
        "v, e = map(int, input().split())\n",
        "lst = [[] for _ in range(v + 1)]\n",
        "\n",
        "for _ in range(e):\n",
        "    start, end, w = map(int, input().split())\n",
        "    lst[start].append([end, w])\n",
        "\n",
        "graph = Graph(lst)\n",
        "graph.ford_bellmann(1)\n",
        "res = graph.dist\n",
        "\n",
        "for dist in res[1:]:\n",
        "    if dist == float('inf'):\n",
        "        print(30000, end=' ')\n",
        "    else:\n",
        "        print(dist, end=' ')"
      ],
      "metadata": {
        "id": "ZcX7jRyjIHue"
      },
      "execution_count": null,
      "outputs": []
    }
  ]
}