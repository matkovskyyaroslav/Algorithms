{
  "nbformat": 4,
  "nbformat_minor": 0,
  "metadata": {
    "colab": {
      "provenance": []
    },
    "kernelspec": {
      "name": "python3",
      "display_name": "Python 3"
    },
    "language_info": {
      "name": "python"
    }
  },
  "cells": [
    {
      "cell_type": "code",
      "execution_count": null,
      "metadata": {
        "id": "9AGu7PNh46uT"
      },
      "outputs": [],
      "source": [
        "n, s = map(int, input().split())\n",
        "weights = list(map(int, input().split()))\n",
        "cost = list(map(int, input().split()))\n",
        "\n",
        "dp = [[0] * (s + 1) for _ in range(n + 1)]\n",
        "for i in range(1, n + 1):\n",
        "    elem = cost[i - 1]\n",
        "    weight = weights[i - 1]\n",
        "    for j in range(1, s + 1):\n",
        "        dp[i][j] = dp[i - 1][j]\n",
        "        if j >= weight:\n",
        "            a = dp[i][j - weight] + elem\n",
        "            dp[i][j] = max(dp[i][j], dp[i - 1][j - weight] + elem)\n",
        "\n",
        "i = n\n",
        "j = s\n",
        "res = []\n",
        "while dp[i][j] != 0:\n",
        "    if dp[i][j] == dp[i][j - 1]:\n",
        "        j -= 1\n",
        "    elif dp[i][j] == dp[i - 1][j]:\n",
        "        i -= 1\n",
        "    else:\n",
        "        res.append(i)\n",
        "        i -= 1\n",
        "        j -= weights[i]\n",
        "\n",
        "print(len(res))\n",
        "print(*res)"
      ]
    }
  ]
}