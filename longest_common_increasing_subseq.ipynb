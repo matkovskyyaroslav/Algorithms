{
  "nbformat": 4,
  "nbformat_minor": 0,
  "metadata": {
    "colab": {
      "provenance": []
    },
    "kernelspec": {
      "name": "python3",
      "display_name": "Python 3"
    },
    "language_info": {
      "name": "python"
    }
  },
  "cells": [
    {
      "cell_type": "code",
      "execution_count": null,
      "metadata": {
        "id": "9AGu7PNh46uT"
      },
      "outputs": [],
      "source": [
        "n = int(input())\n",
        "A = list(map(int, input().split()))\n",
        "m = int(input())\n",
        "B = list(map(int, input().split()))\n",
        "dp = [[0] * m for _ in range(n)]\n",
        "p = [[-1] * m for _ in range(n)]\n",
        "for i in range(n):\n",
        "    j_1 = -1\n",
        "    for j in range(m):\n",
        "        if i == 0:\n",
        "            if A[i] != B[j]:\n",
        "                dp[i][j] = 0\n",
        "            else:\n",
        "                dp[i][j] = 1\n",
        "            continue\n",
        "        if A[i] != B[j]:\n",
        "            dp[i][j] = dp[i - 1][j]\n",
        "            p[i][j] = m\n",
        "        else:\n",
        "            if j_1 == -1:\n",
        "                dp[i][j] = 1\n",
        "            else:\n",
        "                dp[i][j] = dp[i - 1][j_1] + 1\n",
        "                p[i][j] = j_1\n",
        "        if A[i] > B[j]:\n",
        "            if (j_1 == -1 or dp[i - 1][j] > dp[i - 1][j_1]) and dp[i - 1][j] >= 1:\n",
        "                j_1 = j\n",
        "x = n - 1\n",
        "y = 0\n",
        "for i in range(m):\n",
        "    if dp[n - 1][i] > dp[n - 1][y]:\n",
        "        y = i\n",
        "if dp[x][y] == 0:\n",
        "    print(0)\n",
        "    exit(0)\n",
        "print(dp[n - 1][y])\n",
        "ans = []\n",
        "while y != -1:\n",
        "    cp = p[x][y]\n",
        "    if cp == m:\n",
        "        x -= 1\n",
        "    else:\n",
        "        ans.append(B[y])\n",
        "        x -= 1\n",
        "        y = cp\n",
        "for i in ans[::-1]:\n",
        "    print(i, end=' ')"
      ]
    }
  ]
}