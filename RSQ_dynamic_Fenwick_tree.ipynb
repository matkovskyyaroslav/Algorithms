{
  "nbformat": 4,
  "nbformat_minor": 0,
  "metadata": {
    "colab": {
      "provenance": []
    },
    "kernelspec": {
      "name": "python3",
      "display_name": "Python 3"
    },
    "language_info": {
      "name": "python"
    }
  },
  "cells": [
    {
      "cell_type": "code",
      "source": [
        "class FenwickTree:\n",
        "    def __init__(self, n):\n",
        "        self.n = n\n",
        "        self.tree = [0] * (n + 1)\n",
        "\n",
        "    def update(self, i, delta):\n",
        "        while i <= self.n:\n",
        "            self.tree[i] += delta\n",
        "            i += i & -i\n",
        "\n",
        "    def query(self, i):\n",
        "        result = 0\n",
        "        while i > 0:\n",
        "            result += self.tree[i]\n",
        "            i -= i & -i\n",
        "        return result\n",
        "\n",
        "\n",
        "def dynamic_rsq(arr):\n",
        "    n = len(arr)\n",
        "    fenwick_tree = FenwickTree(n)\n",
        "\n",
        "    for i in range(1, n + 1):\n",
        "        fenwick_tree.update(i, arr[i - 1])\n",
        "\n",
        "    def update(index, new_value):\n",
        "        delta = new_value - arr[index - 1]\n",
        "        arr[index - 1] = new_value\n",
        "        fenwick_tree.update(index, delta)\n",
        "\n",
        "    def range_query(start, end):\n",
        "        return fenwick_tree.query(end) - fenwick_tree.query(start - 1)\n",
        "\n",
        "    return update, range_query\n",
        "\n",
        "\n",
        "\n",
        "n = int(input())\n",
        "arr = list(map(int, input().split()))\n",
        "update, range_query = dynamic_rsq(arr)\n",
        "\n",
        "q = int(input())\n",
        "for _ in range(q):\n",
        "    query = list(map(str, input().split()))\n",
        "    if query[0] == 's':\n",
        "        l, r = int(query[1]), int(query[2])\n",
        "        print(range_query(l, r), end=' ')\n",
        "    else:\n",
        "        ind, val = int(query[1]), int(query[2])\n",
        "        update(ind, val)"
      ],
      "metadata": {
        "id": "ZcX7jRyjIHue"
      },
      "execution_count": null,
      "outputs": []
    }
  ]
}