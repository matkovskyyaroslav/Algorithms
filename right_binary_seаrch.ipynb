{
  "nbformat": 4,
  "nbformat_minor": 0,
  "metadata": {
    "colab": {
      "provenance": []
    },
    "kernelspec": {
      "name": "python3",
      "display_name": "Python 3"
    },
    "language_info": {
      "name": "python"
    }
  },
  "cells": [
    {
      "cell_type": "code",
      "execution_count": 1,
      "metadata": {
        "id": "2mDoFv-tJiV9"
      },
      "outputs": [],
      "source": [
        "def left_binary_search(lst, target):\n",
        "    \"\"\" If lst contains the target, we return\n",
        "    its position in the lst.\n",
        "    If lst contains more than one target, we return\n",
        "    its right position\"\"\"\n",
        "    left = 0\n",
        "    right = len(lst)\n",
        "    while left < right:\n",
        "        middle = (left + right) // 2\n",
        "        if target >= lst[middle]:\n",
        "            left = middle + 1\n",
        "        else:\n",
        "            right = middle\n",
        "    return right - 1"
      ]
    }
  ]
}