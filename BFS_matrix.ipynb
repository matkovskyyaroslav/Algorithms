{
  "nbformat": 4,
  "nbformat_minor": 0,
  "metadata": {
    "colab": {
      "provenance": []
    },
    "kernelspec": {
      "name": "python3",
      "display_name": "Python 3"
    },
    "language_info": {
      "name": "python"
    }
  },
  "cells": [
    {
      "cell_type": "code",
      "source": [
        "from collections import deque\n",
        "\n",
        "n = int(input())\n",
        "matrix = [[0] * n for _ in range(n)]\n",
        "dist = [float('inf')] * n\n",
        "\n",
        "for i in range(n):\n",
        "    matrix[i] = list(map(int, input().split()))\n",
        "\n",
        "first, last = map(int, input().split())\n",
        "first -= 1\n",
        "last -= 1\n",
        "dist[first] = 0\n",
        "\n",
        "deq = deque()\n",
        "deq.append(first)\n",
        "\n",
        "while deq and dist[last] == float('inf'):\n",
        "    elem = deq.popleft()\n",
        "    for i in range(n):\n",
        "        if matrix[elem][i] == 1 and dist[i] == float('inf'):\n",
        "            dist[i] = dist[elem] + 1\n",
        "            deq.append(i)\n",
        "\n",
        "if dist[last] == float('inf'):\n",
        "    print(-1)\n",
        "else:\n",
        "    print(dist[last])"
      ],
      "metadata": {
        "id": "ZcX7jRyjIHue"
      },
      "execution_count": null,
      "outputs": []
    }
  ]
}