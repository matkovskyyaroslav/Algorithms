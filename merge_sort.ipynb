{
  "nbformat": 4,
  "nbformat_minor": 0,
  "metadata": {
    "colab": {
      "provenance": []
    },
    "kernelspec": {
      "name": "python3",
      "display_name": "Python 3"
    },
    "language_info": {
      "name": "python"
    }
  },
  "cells": [
    {
      "cell_type": "code",
      "execution_count": null,
      "metadata": {
        "id": "2mDoFv-tJiV9"
      },
      "outputs": [],
      "source": [
        "def merge(A, B):\n",
        "    a_point = 0\n",
        "    b_point = 0\n",
        "    res = [0] * (len(A) + len(B))\n",
        "    k = 0\n",
        "    while a_point < len(A) and b_point < len(B):\n",
        "        if A[a_point] <= B[b_point]:\n",
        "            res[k] = A[a_point]\n",
        "            a_point += 1\n",
        "        else:\n",
        "            res[k] = B[b_point]\n",
        "            b_point += 1\n",
        "        k += 1\n",
        "    while a_point < len(A):\n",
        "        res[k] = A[a_point]\n",
        "        a_point += 1\n",
        "        k += 1\n",
        "    while b_point < len(B):\n",
        "        res[k] = B[b_point]\n",
        "        b_point += 1\n",
        "        k += 1\n",
        "    return res\n",
        "\n",
        "\n",
        "def merge_sort(lst):\n",
        "    if len(lst) <= 1:\n",
        "        return lst\n",
        "    middle = len(lst) // 2\n",
        "    L = lst[:middle]\n",
        "    R = lst[middle:]\n",
        "    L = merge_sort(L)\n",
        "    R = merge_sort(R)\n",
        "    lst[:] = merge(L, R)\n",
        "    return lst"
      ]
    }
  ]
}