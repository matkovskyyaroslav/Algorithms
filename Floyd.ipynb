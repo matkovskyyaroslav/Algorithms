{
  "nbformat": 4,
  "nbformat_minor": 0,
  "metadata": {
    "colab": {
      "provenance": []
    },
    "kernelspec": {
      "name": "python3",
      "display_name": "Python 3"
    },
    "language_info": {
      "name": "python"
    }
  },
  "cells": [
    {
      "cell_type": "code",
      "source": [
        "import heapq\n",
        "\n",
        "\n",
        "class weighted_graph:\n",
        "    def __init__(self, matrix):\n",
        "        self.matrix = matrix[:]\n",
        "        self.dist = [float('inf')] * (len(matrix))\n",
        "        self.dist_matrix = matrix[:]\n",
        "\n",
        "    def floyd(self):\n",
        "        for k in range(1, len(self.matrix)):\n",
        "            for u in range(1, len(self.matrix)):\n",
        "                if self.matrix[u][k] == -1:\n",
        "                    continue\n",
        "                for v in range(1, len(self.matrix)):\n",
        "                    if self.matrix[k][v] == -1:\n",
        "                        continue\n",
        "                    poss_dist = self.matrix[u][k] + self.matrix[k][v]\n",
        "                    self.dist_matrix[u][v] = min(self.dist_matrix[u][v], poss_dist)\n",
        "\n",
        "\n",
        "n = int(input())\n",
        "matrix = [[float('inf')] * (n + 1) for _ in range(n + 1)]\n",
        "for i in range(n):\n",
        "    lst = list(map(int, input().split()))\n",
        "    for j in range(len(lst)):\n",
        "        if lst[j] == -1:\n",
        "            lst[j] = float('inf')\n",
        "    matrix[i + 1][1:] = lst\n",
        "\n",
        "graph = weighted_graph(matrix)\n",
        "graph.floyd()\n",
        "res_matrix = graph.dist_matrix\n",
        "res = 0\n",
        "\n",
        "for i in range(len(res_matrix)):\n",
        "    for poss in res_matrix[i]:\n",
        "        if poss > res and poss != float('inf'):\n",
        "            res = poss\n",
        "\n",
        "print(res)"
      ],
      "metadata": {
        "id": "ZcX7jRyjIHue"
      },
      "execution_count": null,
      "outputs": []
    }
  ]
}