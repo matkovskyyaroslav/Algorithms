{
  "nbformat": 4,
  "nbformat_minor": 0,
  "metadata": {
    "colab": {
      "provenance": []
    },
    "kernelspec": {
      "name": "python3",
      "display_name": "Python 3"
    },
    "language_info": {
      "name": "python"
    }
  },
  "cells": [
    {
      "cell_type": "code",
      "execution_count": null,
      "metadata": {
        "id": "9AGu7PNh46uT"
      },
      "outputs": [],
      "source": [
        "n = int(input())\n",
        "A = list(map(int, input().split()))\n",
        "\n",
        "res_lst = [1] * len(A)\n",
        "\n",
        "for i in range(len(A)):\n",
        "    for j in range(i):\n",
        "        if A[j] < A[i]:\n",
        "            res_lst[i] += res_lst[j]\n",
        "\n",
        "print(sum(res_lst) % 10 ** 6)"
      ]
    }
  ]
}