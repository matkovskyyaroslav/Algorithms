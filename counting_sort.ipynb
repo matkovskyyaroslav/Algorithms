{
  "nbformat": 4,
  "nbformat_minor": 0,
  "metadata": {
    "colab": {
      "provenance": []
    },
    "kernelspec": {
      "name": "python3",
      "display_name": "Python 3"
    },
    "language_info": {
      "name": "python"
    }
  },
  "cells": [
    {
      "cell_type": "code",
      "execution_count": 8,
      "metadata": {
        "id": "2mDoFv-tJiV9"
      },
      "outputs": [],
      "source": [
        "def counting_sort(lst, max_range):\n",
        "    res = [0] * len(lst)\n",
        "    tmp = [0] * (max_range + 1)\n",
        "    for i in range(len(lst)):\n",
        "        tmp[lst[i]] += 1\n",
        "\n",
        "    k = 0\n",
        "    for i in range(len(tmp)):\n",
        "        for j in range(tmp[i]):\n",
        "            res[k] = i\n",
        "            k += 1\n",
        "    return res"
      ]
    }
  ]
}