{
  "nbformat": 4,
  "nbformat_minor": 0,
  "metadata": {
    "colab": {
      "provenance": []
    },
    "kernelspec": {
      "name": "python3",
      "display_name": "Python 3"
    },
    "language_info": {
      "name": "python"
    }
  },
  "cells": [
    {
      "cell_type": "code",
      "source": [
        "import math\n",
        "\n",
        "n, m = map(int, input().split())\n",
        "lst = list(map(int, input().split()))\n",
        "\n",
        "A = [lst.copy()]\n",
        "\n",
        "k = 1\n",
        "deg = 1\n",
        "while 2 ** k <= len(lst):\n",
        "    A.append([])\n",
        "    for i in range(len(lst) - 2 ** k + 1):\n",
        "        A[-1].append(min(A[-2][i], A[-2][i + deg]))\n",
        "    deg = 2 ** k\n",
        "    k += 1\n",
        "\n",
        "\n",
        "degrees = [0]\n",
        "degrees_2 = [1]\n",
        "for i in range(1, len(lst) + 1):\n",
        "    degrees.append(int(math.log2(i)))\n",
        "    degrees_2.append(2 ** int(math.log2(i)))\n",
        "\n",
        "\n",
        "for _ in range(m):\n",
        "    a, b = map(int, input().split())\n",
        "    row = degrees[b - a + 1]\n",
        "    res = min(A[row][a - 1], A[row][b - degrees_2[b - a + 1]])\n",
        "    print(res)"
      ],
      "metadata": {
        "id": "ZcX7jRyjIHue"
      },
      "execution_count": null,
      "outputs": []
    }
  ]
}