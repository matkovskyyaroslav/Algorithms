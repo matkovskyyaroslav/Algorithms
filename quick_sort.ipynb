{
  "nbformat": 4,
  "nbformat_minor": 0,
  "metadata": {
    "colab": {
      "provenance": []
    },
    "kernelspec": {
      "name": "python3",
      "display_name": "Python 3"
    },
    "language_info": {
      "name": "python"
    }
  },
  "cells": [
    {
      "cell_type": "code",
      "execution_count": null,
      "metadata": {
        "id": "2mDoFv-tJiV9"
      },
      "outputs": [],
      "source": [
        "def quick_sort(lst):\n",
        "    if len(lst) <= 1:\n",
        "        return lst\n",
        "    bar = lst[0]\n",
        "    L = []\n",
        "    M = []\n",
        "    R = []\n",
        "    res = []\n",
        "    for element in lst:\n",
        "        if element < bar:\n",
        "            L.append(element)\n",
        "        elif element == bar:\n",
        "            M.append(element)\n",
        "        else:\n",
        "            R.append(element)\n",
        "    L = quick_sort(L)\n",
        "    R = quick_sort(R)\n",
        "    res = L + M + R\n",
        "    return res"
      ]
    }
  ]
}