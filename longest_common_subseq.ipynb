{
  "nbformat": 4,
  "nbformat_minor": 0,
  "metadata": {
    "colab": {
      "provenance": []
    },
    "kernelspec": {
      "name": "python3",
      "display_name": "Python 3"
    },
    "language_info": {
      "name": "python"
    }
  },
  "cells": [
    {
      "cell_type": "code",
      "execution_count": null,
      "metadata": {
        "id": "2mDoFv-tJiV9"
      },
      "outputs": [],
      "source": [
        "def longestCommonSubsequence(text1, text2):\n",
        "    F = [[0] * (len(text2) + 1) for i in range(len(text1) + 1)]\n",
        "    res = 0\n",
        "    for i in range(1, len(text1) + 1):\n",
        "        for j in range(1, len(text2) + 1):\n",
        "            if text1[i - 1] == text2[j - 1]:\n",
        "                F[i][j] += 1 + F[i - 1][j - 1]\n",
        "            else:\n",
        "                F[i][j] += max(F[i - 1][j], F[i][j - 1])\n",
        "    return F[-1][-1]"
      ]
    }
  ]
}