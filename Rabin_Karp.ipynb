{
  "nbformat": 4,
  "nbformat_minor": 0,
  "metadata": {
    "colab": {
      "provenance": []
    },
    "kernelspec": {
      "name": "python3",
      "display_name": "Python 3"
    },
    "language_info": {
      "name": "python"
    }
  },
  "cells": [
    {
      "cell_type": "code",
      "execution_count": null,
      "metadata": {
        "id": "9AGu7PNh46uT"
      },
      "outputs": [],
      "source": [
        "def hash_s(s):\n",
        "    simple = 100000001\n",
        "    b = 29\n",
        "    res = [0] * (len(s) + 1)\n",
        "    deg = [1] * (len(s) + 1)\n",
        "    for i in range(len(s)):\n",
        "        res[i + 1] = (res[i] * b + ord(s[i])) % simple\n",
        "        deg[i + 1] = (deg[i] * p) % simple\n",
        "\n",
        "    return res, deg\n",
        "\n",
        "\n",
        "s = input()\n",
        "n = int(input())\n",
        "p = 29\n",
        "\n",
        "hashed_s, degrees = hash_s(s)\n",
        "for _ in range(n):\n",
        "    a, b, c, d = map(int, input().split())\n",
        "    if b - a != d - c:\n",
        "        print('No')\n",
        "        continue\n",
        "    if s[a - 1] != s[c - 1]:\n",
        "        print('No')\n",
        "        continue\n",
        "    if b - a == d - c:\n",
        "        first = (hashed_s[b] - hashed_s[a] * degrees[b - a]) % 100000001\n",
        "        second = (hashed_s[d] - hashed_s[c] * degrees[d - c]) % 100000001\n",
        "        if a == b:\n",
        "            first = ord(s[a - 1])\n",
        "        if c == d:\n",
        "            second = ord(s[c - 1])\n",
        "\n",
        "        if first == second:\n",
        "            print('Yes')\n",
        "        else:\n",
        "            print('No')"
      ]
    }
  ]
}