{
  "nbformat": 4,
  "nbformat_minor": 0,
  "metadata": {
    "colab": {
      "provenance": []
    },
    "kernelspec": {
      "name": "python3",
      "display_name": "Python 3"
    },
    "language_info": {
      "name": "python"
    }
  },
  "cells": [
    {
      "cell_type": "code",
      "execution_count": 15,
      "metadata": {
        "id": "hFtZDWfGaNPa"
      },
      "outputs": [],
      "source": [
        "def levenstein(A, B):\n",
        "    F = [[0] * (len(B) + 1) for i in range(len(A) + 1)]\n",
        "    for i in range(len(B) + 1):\n",
        "        F[i][0] = i\n",
        "    for i in range(len(B) + 1):\n",
        "        F[0][i] = i\n",
        "    \n",
        "    for i in range(1, len(A) + 1):\n",
        "        for j in range(1, len(B) + 1):\n",
        "            if A[i - 1] == B[j - 1]:\n",
        "                F[i][j] = F[i - 1][j - 1]\n",
        "            else:\n",
        "                F[i][j] = 1 + min(F[i - 1][j], F[i][j - 1], F[i - 1][j - 1])\n",
        "    return F[-1][-1]"
      ]
    }
  ]
}