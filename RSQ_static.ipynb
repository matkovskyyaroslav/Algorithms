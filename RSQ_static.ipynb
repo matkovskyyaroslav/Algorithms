{
  "nbformat": 4,
  "nbformat_minor": 0,
  "metadata": {
    "colab": {
      "provenance": []
    },
    "kernelspec": {
      "name": "python3",
      "display_name": "Python 3"
    },
    "language_info": {
      "name": "python"
    }
  },
  "cells": [
    {
      "cell_type": "code",
      "source": [
        "n = int(input())\n",
        "lst = list(map(int, input().split()))\n",
        "\n",
        "prefix = [0]\n",
        "for i in range(1, n + 1):\n",
        "    prefix.append(prefix[i - 1] + lst[i - 1])\n",
        "\n",
        "k = int(input())\n",
        "ans = []\n",
        "for _ in range(k):\n",
        "    a, b = map(int, input().split())\n",
        "    ans.append(prefix[b] - prefix[a - 1])\n",
        "\n",
        "print(*ans)"
      ],
      "metadata": {
        "id": "ZcX7jRyjIHue"
      },
      "execution_count": null,
      "outputs": []
    }
  ]
}