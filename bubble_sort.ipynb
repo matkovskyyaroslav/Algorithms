{
  "nbformat": 4,
  "nbformat_minor": 0,
  "metadata": {
    "colab": {
      "provenance": []
    },
    "kernelspec": {
      "name": "python3",
      "display_name": "Python 3"
    },
    "language_info": {
      "name": "python"
    }
  },
  "cells": [
    {
      "cell_type": "code",
      "execution_count": null,
      "metadata": {
        "id": "8BuIcG75kN5K"
      },
      "outputs": [],
      "source": [
        "def bubble_sort(lst):\n",
        "    for i in range(1, len(lst)):\n",
        "        for j in range(len(lst) - i):\n",
        "            if lst[j] > lst[j + 1]:\n",
        "                lst[j], lst[j + 1] = lst[j + 1], lst[j]\n",
        "    return lst"
      ]
    }
  ]
}